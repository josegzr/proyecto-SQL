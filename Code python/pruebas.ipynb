{
 "cells": [
  {
   "cell_type": "code",
   "execution_count": null,
   "id": "2c29db6a",
   "metadata": {},
   "outputs": [],
   "source": [
    "for i, row in data.iterrows():\n",
    "    if \"Action\" in row['description']:\n",
    "        data.at[i, 'category_name'] = 'Action'\n",
    "        \n",
    "    elif \"Animation\" in row['description']:\n",
    "        data.at[i, 'category_name'] = 'Animation'\n",
    "        \n",
    "    elif \"Children\" in row['description']:\n",
    "        data.at[i, 'category_name'] = 'Children'\n",
    "        \n",
    "    elif \"Classics\" in row['description']:\n",
    "        data.at[i, 'category_name'] = 'Classics'\n",
    "        \n",
    "    elif \"Comedy\" in row['description']:\n",
    "        data.at[i, 'category_name'] = 'Comedy'\n",
    "    \n",
    "    elif \"Documentary\" in row['description']:\n",
    "        data.at[i, 'category_name'] = 'Documentary'\n",
    "        \n",
    "    elif \"Drama\" in row['description']:\n",
    "        data.at[i, 'category_name'] = 'Drama'\n",
    "    \n",
    "    elif \"Family\" in row['description']:\n",
    "        data.at[i, 'category_name'] = 'Family'\n",
    "        \n",
    "    elif \"Foreign\" in row['description']:\n",
    "        data.at[i, 'category_name'] = 'Foreign'\n",
    "    \n",
    "    elif \"Games\" in row['description']:\n",
    "        data.at[i, 'category_name'] = 'Games'\n",
    "        \n",
    "    elif \"Horror\" in row['description']:\n",
    "        data.at[i, 'category_name'] = 'Horror'\n",
    "    \n",
    "    elif \"Music\" in row['description']:\n",
    "        data.at[i, 'category_name'] = 'Music'\n",
    "    \n",
    "    elif \"New\" in row['description']:\n",
    "        data.at[i, 'category_name'] = 'New'\n",
    "        \n",
    "    elif \"Sci-Fi\" in row['description']:\n",
    "        data.at[i, 'category_name'] = 'Sci-Fi'\n",
    "    \n",
    "    elif \"Sports\" in row['description']:\n",
    "        data.at[i, 'category_name'] = 'Sports'\n",
    "        \n",
    "    elif \"Travel\" in row['description']:\n",
    "        data.at[i, 'category_name'] = 'Travel'\n",
    "    \n",
    "    else:\n",
    "        print('no hay categoria')\n",
    "        \n",
    "        "
   ]
  }
 ],
 "metadata": {
  "kernelspec": {
   "display_name": "Python 3 (ipykernel)",
   "language": "python",
   "name": "python3"
  },
  "language_info": {
   "codemirror_mode": {
    "name": "ipython",
    "version": 3
   },
   "file_extension": ".py",
   "mimetype": "text/x-python",
   "name": "python",
   "nbconvert_exporter": "python",
   "pygments_lexer": "ipython3",
   "version": "3.11.5"
  }
 },
 "nbformat": 4,
 "nbformat_minor": 5
}
